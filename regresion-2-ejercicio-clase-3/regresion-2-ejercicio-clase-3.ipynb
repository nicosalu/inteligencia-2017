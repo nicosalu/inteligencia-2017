{
 "cells": [
  {
   "cell_type": "markdown",
   "metadata": {
    "collapsed": true
   },
   "source": [
    "# Regresión Ejercicio Clase 3\n",
    "## Nicolás Salusso - 10710\n",
    "\n",
    "#### 1) Se declara la variable **my_random** que contiene mi número de alumno. "
   ]
  },
  {
   "cell_type": "code",
   "execution_count": 1,
   "metadata": {},
   "outputs": [],
   "source": [
    "my_random = 14"
   ]
  },
  {
   "cell_type": "markdown",
   "metadata": {},
   "source": [
    "#### 2) Iniciación del modelo:\n",
    "\n",
    "2.1 Se declaran las variables **X** e **y** del modelo."
   ]
  },
  {
   "cell_type": "code",
   "execution_count": 2,
   "metadata": {},
   "outputs": [],
   "source": [
    "from sklearn.datasets import load_boston\n",
    "\n",
    "boston = load_boston()\n",
    "X = boston.data\n",
    "y = boston.target"
   ]
  },
  {
   "cell_type": "markdown",
   "metadata": {},
   "source": [
    "2.2 Se selecciona el feature RM(5)."
   ]
  },
  {
   "cell_type": "code",
   "execution_count": 3,
   "metadata": {},
   "outputs": [
    {
     "name": "stdout",
     "output_type": "stream",
     "text": [
      "[ 6.575  6.421  7.185  6.998  7.147  6.43   6.012  6.172  5.631  6.004\n  6.377  6.009  5.889  5.949  6.096  5.834  5.935  5.99   5.456  5.727\n  5.57   5.965  6.142  5.813  5.924  5.599  5.813  6.047  6.495  6.674]\n"
     ]
    }
   ],
   "source": [
    "X_feature = X[:, 5]\n",
    "# Se imprime a modo de ejemplo los primeros treinta valores del feature RM\n",
    "print(X_feature[0:30])"
   ]
  },
  {
   "cell_type": "markdown",
   "metadata": {},
   "source": [
    "2.3 Se realiza el split entre los valores que van a ser de entrenamiento y de prueba."
   ]
  },
  {
   "cell_type": "code",
   "execution_count": 4,
   "metadata": {},
   "outputs": [],
   "source": [
    "from sklearn.model_selection import train_test_split\n",
    "\n",
    "X_train, X_test, y_train, y_test = train_test_split(X_feature, y, test_size=0.3, random_state=my_random)"
   ]
  },
  {
   "cell_type": "markdown",
   "metadata": {},
   "source": [
    "#### 3) Se define el polinomio:"
   ]
  },
  {
   "cell_type": "code",
   "execution_count": 5,
   "metadata": {},
   "outputs": [],
   "source": [
    "from sklearn.preprocessing import PolynomialFeatures\n",
    "from sklearn.linear_model import LinearRegression\n",
    "\n",
    "poly = PolynomialFeatures(degree=5)"
   ]
  },
  {
   "cell_type": "markdown",
   "metadata": {},
   "source": [
    "3.2 Se realiza el fit al polinomio."
   ]
  },
  {
   "cell_type": "code",
   "execution_count": 6,
   "metadata": {
    "collapsed": false
   },
   "outputs": [
    {
     "data": {
      "text/plain": [
       "LinearRegression(copy_X=True, fit_intercept=True, n_jobs=1, normalize=False)"
      ]
     },
     "execution_count": 6,
     "metadata": {},
     "output_type": "execute_result"
    }
   ],
   "source": [
    "X_train_poly = poly.fit_transform(X_train.reshape(-1, 1), y_train)\n",
    "poly_regressor = LinearRegression()\n",
    "poly_regressor.fit(X_train_poly, y_train)"
   ]
  },
  {
   "cell_type": "markdown",
   "metadata": {},
   "source": [
    "3.3 Se genera el gráfico que muestra las distancias entre **$\\hat{y}$** e **y**."
   ]
  },
  {
   "cell_type": "code",
   "execution_count": 7,
   "metadata": {},
   "outputs": [
    {
     "data": {
      "image/png": "[encoded data removed]",
      "text/plain": [
       "<matplotlib.figure.Figure at 0x7f178cc9f198>"
      ]
     },
     "metadata": {},
     "output_type": "display_data"
    }
   ],
   "source": [
    "import matplotlib.pyplot as plt\n",
    "axes = plt.subplot(111) # Establecemos límites fijos para el gráfico\n",
    "axes.set_xlim(X_train.min(), X_train.max())\n",
    "axes.set_ylim(y.min(), y.max())\n",
    "plt.plot(X_train, y_train, 'o')\n",
    "plt.plot(X_train, poly_regressor.predict(X_train_poly), '.')\n",
    "plt.show()"
   ]
  },
  {
   "cell_type": "markdown",
   "metadata": {},
   "source": [
    "#### 4) Entrenamiento del modelo con polinomios que van desde el grado 0 hasta el 15"
   ]
  },
  {
   "cell_type": "code",
   "execution_count": 8,
   "metadata": {},
   "outputs": [],
   "source": [
    "from sklearn.metrics import mean_squared_error\n",
    "import numpy as np\n",
    "y_error_entrenamiento = []\n",
    "y_error_test = []\n",
    "x_gradosPolinomio = []\n",
    "for a in range(16):\n",
    "    poly = PolynomialFeatures(degree=a)\n",
    "    X_train_poly = poly.fit_transform(X_train.reshape(-1, 1), y_train)\n",
    "    poly_regressor = LinearRegression()\n",
    "    poly_regressor.fit(X_train_poly, y_train)\n",
    "    X_test_poly = poly.transform(X_test.reshape(-1, 1))\n",
    "    y_error_entrenamiento.append(mean_squared_error(y_train, poly_regressor.predict(X_train_poly)))\n",
    "    y_error_test.append(mean_squared_error(y_test, poly_regressor.predict(X_test_poly)))\n",
    "    x_gradosPolinomio.append(a)"
   ]
  },
  {
   "cell_type": "markdown",
   "metadata": {},
   "source": [
    "4.1 Se convierten las listas en un array de numpy para aprovechar las operaciones que ofrece esta libreria."
   ]
  },
  {
   "cell_type": "code",
   "execution_count": 9,
   "metadata": {},
   "outputs": [],
   "source": [
    "y_error_entrenamiento = np.array(y_error_entrenamiento)\n",
    "y_error_test = np.array(y_error_test)\n",
    "x_gradosPolinomio = np.array(x_gradosPolinomio)"
   ]
  },
  {
   "cell_type": "markdown",
   "metadata": {},
   "source": [
    "4.2 Se grafica el bias-variance tradeoff para el error cuadrático medio en base a los distintos grados del polinomio."
   ]
  },
  {
   "cell_type": "code",
   "execution_count": 10,
   "metadata": {},
   "outputs": [
    {
     "name": "stdout",
     "output_type": "stream",
     "text": [
      "Entrenamiento:\n"
     ]
    },
    {
     "data": {
      "image/png": "[encoded data removed]",
      "text/plain": [
       "<matplotlib.figure.Figure at 0x7f1788561908>"
      ]
     },
     "metadata": {},
     "output_type": "display_data"
    },
    {
     "name": "stdout",
     "output_type": "stream",
     "text": [
      "Test:\n"
     ]
    },
    {
     "data": {
      "image/png": "[encoded data removed]",
      "text/plain": [
       "<matplotlib.figure.Figure at 0x7f17885a2f28>"
      ]
     },
     "metadata": {},
     "output_type": "display_data"
    }
   ],
   "source": [
    "print('Entrenamiento:')\n",
    "plt.plot(x_gradosPolinomio, y_error_entrenamiento, '-')\n",
    "plt.show()\n",
    "print('Test:')\n",
    "plt.plot(x_gradosPolinomio, y_error_test, '-')\n",
    "plt.show()"
   ]
  },
  {
   "cell_type": "markdown",
   "metadata": {},
   "source": [
    "#### 5) Se especifica el grado del polinomio en el cual se minimiza el error del test."
   ]
  },
  {
   "cell_type": "code",
   "execution_count": 11,
   "metadata": {},
   "outputs": [
    {
     "data": {
      "image/png": "[encoded data removed]",
      "text/plain": [
       "<matplotlib.figure.Figure at 0x7f17883ea0f0>"
      ]
     },
     "metadata": {},
     "output_type": "display_data"
    },
    {
     "name": "stdout",
     "output_type": "stream",
     "text": [
      "El grado del polomino en el cual se minimiza el error es: 5, dando un error de: 44.921049196036726\n"
     ]
    }
   ],
   "source": [
    "plt.plot(x_gradosPolinomio, y_error_test, '-', x_gradosPolinomio[np.argmin(y_error_test)], y_error_test.min(), 'ro')\n",
    "plt.show()\n",
    "print('El grado del polomino en el cual se minimiza el error es: {}, dando un error de: {}'.format(x_gradosPolinomio[np.argmin(y_error_test)], y_error_test.min()))"
   ]
  },
  {
   "cell_type": "markdown",
   "metadata": {},
   "source": [
    "#### 6) Se completa el codigo del KFold para el modelo de regresión polinomial de grado 5 y se lo entrena con el feature 5.\n"
   ]
  },
  {
   "cell_type": "code",
   "execution_count": 12,
   "metadata": {},
   "outputs": [],
   "source": [
    "# Código inicial de ejemplo para KFolds\n",
    "\n",
    "from sklearn.model_selection import KFold\n",
    "\n",
    "kf = KFold(n_splits=10, shuffle=True, random_state=my_random)\n",
    "\n",
    "test_error_poly = []\n",
    "\n",
    "# El siguiente for nos abstrae de tener que manejar explícitamente los subíndices de los folds\n",
    "for train_index, test_index in kf.split(X):\n",
    "    X_train, X_test = X_feature[train_index], X_feature[test_index]\n",
    "    y_train, y_test = y[train_index], y[test_index]\n",
    "    \n",
    "    poly = PolynomialFeatures(degree=5)\n",
    "    X_train_poly = poly.fit_transform(X_train.reshape(-1, 1), y_train)\n",
    "    \n",
    "    poly_regressor = LinearRegression()\n",
    "    poly_regressor.fit(X_train_poly, y_train)\n",
    "    X_test_poly = poly.transform(X_test.reshape(-1, 1))\n",
    "    test_error_poly.append(mean_squared_error(y_test, poly_regressor.predict(X_test_poly)))"
   ]
  },
  {
   "cell_type": "markdown",
   "metadata": {},
   "source": [
    "6.1 Se calcula el Error Cuadrático Medio promedio entre los 10 folds."
   ]
  },
  {
   "cell_type": "code",
   "execution_count": 13,
   "metadata": {},
   "outputs": [
    {
     "data": {
      "text/plain": [
       "36.09370980105556"
      ]
     },
     "execution_count": 13,
     "metadata": {},
     "output_type": "execute_result"
    }
   ],
   "source": [
    "np.average(test_error_poly)"
   ]
  },
  {
   "cell_type": "markdown",
   "metadata": {},
   "source": [
    "#### Fin"
   ]
  },
  {
   "cell_type": "code",
   "execution_count": null,
   "metadata": {},
   "outputs": [],
   "source": [
    ""
   ]
  }
 ],
 "metadata": {
  "kernelspec": {
   "display_name": "Python 2",
   "language": "python",
   "name": "python2"
  },
  "language_info": {
   "codemirror_mode": {
    "name": "ipython",
    "version": 2.0
   },
   "file_extension": ".py",
   "mimetype": "text/x-python",
   "name": "python",
   "nbconvert_exporter": "python",
   "pygments_lexer": "ipython2",
   "version": "2.7.6"
  }
 },
 "nbformat": 4,
 "nbformat_minor": 0
}