{
 "cells": [
  {
   "cell_type": "markdown",
   "metadata": {
    "collapsed": true
   },
   "source": [
    "# Aprendizaje Supervisado\n",
    "# Clasificación Parte 1\n",
    "## Nicolás Salusso - 10710\n",
    "\n",
    "#### 1) Se declara la variable **my_random** que contiene mi número de alumno. "
   ]
  },
  {
   "cell_type": "code",
   "execution_count": 1,
   "metadata": {},
   "outputs": [],
   "source": [
    "my_random = 14"
   ]
  },
  {
   "cell_type": "markdown",
   "metadata": {},
   "source": [
    "#### 2) Implementacion de un clasificador kNN"
   ]
  },
  {
   "cell_type": "markdown",
   "metadata": {},
   "source": [
    "2.1 Se carga el dataset"
   ]
  },
  {
   "cell_type": "code",
   "execution_count": 3,
   "metadata": {},
   "outputs": [],
   "source": [
    "from sklearn.datasets import load_breast_cancer\n",
    "\n",
    "breast_cancer = load_breast_cancer()\n",
    "\n",
    "X = breast_cancer.data"
   ]
  },
  {
   "cell_type": "markdown",
   "metadata": {},
   "source": [
    "2.3 El target del dataset puede tomar 2 valores:\n",
    "- Benigno\n",
    "- Maligno"
   ]
  },
  {
   "cell_type": "code",
   "execution_count": 4,
   "metadata": {},
   "outputs": [],
   "source": [
    "y = breast_cancer.target"
   ]
  },
  {
   "cell_type": "markdown",
   "metadata": {},
   "source": [
    "2.4 Se comienza a instanciar el clasificador"
   ]
  },
  {
   "cell_type": "code",
   "execution_count": 5,
   "metadata": {},
   "outputs": [],
   "source": [
    "from sklearn import neighbors\n",
    "\n",
    "# Para el n_neighbors se tienen que ir probando\n",
    "\n",
    "clf = neighbors.KNeighborsClassifier(n_neighbors=8, weights='distance')"
   ]
  },
  {
   "cell_type": "markdown",
   "metadata": {},
   "source": [
    "#### 3) Se aplica z-score"
   ]
  },
  {
   "cell_type": "code",
   "execution_count": 6,
   "metadata": {},
   "outputs": [],
   "source": [
    "from scipy import stats\n",
    "\n",
    "X_norm = stats.zscore(X)"
   ]
  },
  {
   "cell_type": "markdown",
   "metadata": {},
   "source": [
    "3.1 Se divide en conjunto de entrenamiento y de test"
   ]
  },
  {
   "cell_type": "code",
   "execution_count": 7,
   "metadata": {},
   "outputs": [],
   "source": [
    "from sklearn.model_selection import train_test_split\n",
    "\n",
    "X_train, X_test, y_train, y_test = train_test_split(X_norm, y, random_state=my_random, test_size=0.3)"
   ]
  },
  {
   "cell_type": "markdown",
   "metadata": {},
   "source": [
    "3.2 Se entrena el modelo y se obtiene la tasa de aciertos del clasificador"
   ]
  },
  {
   "cell_type": "code",
   "execution_count": 8,
   "metadata": {},
   "outputs": [
    {
     "name": "stdout",
     "output_type": "stream",
     "text": [
      "Porcentaje de aciertos en la clasificación:  0.970760233918\n"
     ]
    }
   ],
   "source": [
    "clf.fit(X_train, y_train)\n",
    "y_hat = clf.predict(X_test)\n",
    "print('Porcentaje de aciertos en la clasificación: ', clf.score(X_test,y_test))"
   ]
  },
  {
   "cell_type": "code",
   "execution_count": 9,
   "metadata": {},
   "outputs": [
    {
     "name": "stdout",
     "output_type": "stream",
     "text": [
      "[[ 59   4]\n [  1 107]]\n"
     ]
    }
   ],
   "source": [
    "from sklearn import metrics\n",
    "\n",
    "print(metrics.confusion_matrix(y_test, y_hat, labels=[0, 1]))"
   ]
  },
  {
   "cell_type": "code",
   "execution_count": 10,
   "metadata": {},
   "outputs": [
    {
     "name": "stdout",
     "output_type": "stream",
     "text": [
      "             precision    recall  f1-score   support\n\n  malignant       0.98      0.94      0.96        63\n     benign       0.96      0.99      0.98       108\n\navg / total       0.97      0.97      0.97       171\n\n"
     ]
    }
   ],
   "source": [
    "print(metrics.classification_report(y_test, y_hat, target_names=breast_cancer.target_names))"
   ]
  },
  {
   "cell_type": "markdown",
   "metadata": {},
   "source": [
    "4) Se le va a dar un costo a las salidas del clasificador para que este disminuya el error lo mas posible.\n"
   ]
  },
  {
   "cell_type": "code",
   "execution_count": 11,
   "metadata": {},
   "outputs": [
    {
     "name": "stdout",
     "output_type": "stream",
     "text": [
      "1.0\n"
     ]
    }
   ],
   "source": [
    "prob = clf.predict_proba(X_test)\n",
    "# prob = prob.reshape(1, -1)\n",
    "print(prob[1, 1])"
   ]
  },
  {
   "cell_type": "code",
   "execution_count": 14,
   "metadata": {},
   "outputs": [
    {
     "name": "stdout",
     "output_type": "stream",
     "text": [
      "[[ 1.          0.        ]\n [ 0.          1.        ]\n [ 0.13089299  0.86910701]\n [ 1.          0.        ]\n [ 0.          1.        ]\n [ 0.          1.        ]\n [ 0.          1.        ]\n [ 0.          1.        ]\n [ 0.          1.        ]\n [ 0.          1.        ]\n [ 0.          1.        ]\n [ 0.          1.        ]\n [ 0.          1.        ]\n [ 1.          0.        ]\n [ 0.          1.        ]\n [ 0.          1.        ]\n [ 0.62877938  0.37122062]\n [        nan         nan]\n [ 1.          0.        ]\n [ 1.          0.        ]\n [ 1.          0.        ]\n [ 0.          1.        ]\n [ 0.86945794  0.13054206]\n [ 0.          1.        ]\n [ 1.          0.        ]\n [ 0.85026475  0.14973525]\n [ 0.          1.        ]\n [ 0.          1.        ]\n [ 0.          1.        ]\n [ 0.          1.        ]\n [ 0.61669368  0.38330632]\n [ 0.          1.        ]\n [        nan         nan]\n [ 1.          0.        ]\n [ 0.          1.        ]\n [ 1.          0.        ]\n [ 0.          1.        ]\n [ 0.          1.        ]\n [ 0.          1.        ]\n [ 0.12568897  0.87431103]\n [ 0.          1.        ]\n [ 0.          1.        ]\n [ 0.          1.        ]\n [ 1.          0.        ]\n [ 0.          1.        ]\n [        nan         nan]\n [ 0.          1.        ]\n [ 0.6585749   0.3414251 ]\n [ 0.          1.        ]\n [ 1.          0.        ]\n [ 0.          1.        ]\n [ 0.          1.        ]\n [ 1.          0.        ]\n [ 1.          0.        ]\n [ 0.          1.        ]\n [ 0.          1.        ]\n [ 1.          0.        ]\n [ 0.          1.        ]\n [ 0.          1.        ]\n [ 0.          1.        ]\n [ 0.          1.        ]\n [ 1.          0.        ]\n [ 1.          0.        ]\n [ 1.          0.        ]\n [ 1.          0.        ]\n [ 0.12372854  0.87627146]\n [ 0.74899856  0.25100144]\n [ 0.10149019  0.89850981]\n [ 1.          0.        ]\n [ 1.          0.        ]\n [ 0.74504442  0.25495558]\n [ 0.88237443  0.11762557]\n [ 1.          0.        ]\n [ 0.          1.        ]\n [ 0.          1.        ]\n [ 0.          1.        ]\n [ 0.60105373  0.39894627]\n [ 0.          1.        ]\n [ 0.          1.        ]\n [ 0.          1.        ]\n [ 0.          1.        ]\n [ 0.59682508  0.40317492]\n [ 0.          1.        ]\n [ 0.          1.        ]\n [ 0.          1.        ]\n [ 0.13338595  0.86661405]\n [ 1.          0.        ]\n [ 0.88229401  0.11770599]\n [ 0.          1.        ]\n [ 0.          1.        ]\n [        nan         nan]\n [ 1.          0.        ]\n [ 1.          0.        ]\n [ 1.          0.        ]\n [ 0.          1.        ]\n [ 0.          1.        ]\n [ 0.12328653  0.87671347]\n [ 0.11348874  0.88651126]\n [ 0.          1.        ]\n [ 0.          1.        ]\n [ 0.          1.        ]\n [ 0.11709303  0.88290697]\n [ 0.          1.        ]\n [ 0.          1.        ]\n [ 1.          0.        ]\n [ 1.          0.        ]\n [ 0.          1.        ]\n [ 0.          1.        ]\n [ 1.          0.        ]\n [ 0.11026549  0.88973451]\n [ 0.          1.        ]\n [ 0.          1.        ]\n [ 0.          1.        ]\n [ 0.          1.        ]\n [ 0.          1.        ]\n [ 0.          1.        ]\n [ 0.10997531  0.89002469]\n [ 0.          1.        ]\n [ 1.          0.        ]\n [ 0.          1.        ]\n [ 0.          1.        ]\n [ 0.77857845  0.22142155]\n [ 1.          0.        ]\n [ 0.77378391  0.22621609]\n [ 0.          1.        ]\n [        nan         nan]\n [ 1.          0.        ]\n [ 0.          1.        ]\n [ 0.          1.        ]\n [ 0.          1.        ]\n [ 0.          1.        ]\n [ 0.          1.        ]\n [ 0.6531173   0.3468827 ]\n [ 0.11787059  0.88212941]\n [ 0.89571972  0.10428028]\n [ 1.          0.        ]\n [ 1.          0.        ]\n [ 0.12595741  0.87404259]\n [ 0.12457486  0.87542514]\n [ 0.          1.        ]\n [ 0.          1.        ]\n [ 1.          0.        ]\n [ 1.          0.        ]\n [ 0.60690977  0.39309023]\n [ 0.79095393  0.20904607]\n [ 0.14279606  0.85720394]\n [ 1.          0.        ]\n [ 0.          1.        ]\n [ 0.          1.        ]\n [ 1.          0.        ]\n [ 0.          1.        ]\n [ 0.          1.        ]\n [ 0.          1.        ]\n [ 0.11720713  0.88279287]\n [ 0.          1.        ]\n [ 0.15041517  0.84958483]\n [ 0.          1.        ]\n [ 0.          1.        ]\n [ 0.8841677   0.1158323 ]\n [ 1.          0.        ]\n [ 0.          1.        ]\n [ 0.          1.        ]\n [ 0.78036615  0.21963385]\n [ 1.          0.        ]\n [ 0.          1.        ]\n [ 0.          1.        ]\n [ 0.          1.        ]\n [ 0.          1.        ]\n [ 1.          0.        ]\n [ 0.          1.        ]\n [ 1.          0.        ]]\n"
     ]
    }
   ],
   "source": [
    "for i in prob:\n",
    "    if i[0] == 0 or i[0] == 1:\n",
    "        pass\n",
    "    elif i[1] < 0.8 and i[0] < 0.5:\n",
    "        i[0] = None\n",
    "        i[1] = None\n",
    "\n",
    "print(prob)\n",
    "\n",
    "# print(metrics.confusion_matrix(y_test, prob, labels=[0, 1]))"
   ]
  },
  {
   "cell_type": "code",
   "execution_count": 13,
   "metadata": {},
   "outputs": [],
   "source": [
    ""
   ]
  },
  {
   "cell_type": "code",
   "execution_count": null,
   "metadata": {},
   "outputs": [],
   "source": [
    ""
   ]
  }
 ],
 "metadata": {
  "kernelspec": {
   "display_name": "Python 2",
   "language": "python",
   "name": "python2"
  },
  "language_info": {
   "codemirror_mode": {
    "name": "ipython",
    "version": 2.0
   },
   "file_extension": ".py",
   "mimetype": "text/x-python",
   "name": "python",
   "nbconvert_exporter": "python",
   "pygments_lexer": "ipython2",
   "version": "2.7.6"
  }
 },
 "nbformat": 4,
 "nbformat_minor": 0
}