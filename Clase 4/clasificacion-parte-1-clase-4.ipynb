{
 "cells": [
  {
   "cell_type": "markdown",
   "metadata": {
    "collapsed": true
   },
   "source": [
    "# Aprendizaje Supervisado\n",
    "# Clasificación Parte 1\n",
    "## Nicolás Salusso - 10710\n",
    "\n",
    "#### 1) Se declara la variable **my_random** que contiene mi número de alumno. "
   ]
  },
  {
   "cell_type": "code",
   "execution_count": 1,
   "metadata": {},
   "outputs": [],
   "source": [
    "random_state = 14"
   ]
  },
  {
   "cell_type": "markdown",
   "metadata": {},
   "source": [
    "#### 2) Implementación de un clasificador kNN"
   ]
  },
  {
   "cell_type": "markdown",
   "metadata": {},
   "source": [
    "2.1 Se carga el dataset:"
   ]
  },
  {
   "cell_type": "code",
   "execution_count": 2,
   "metadata": {},
   "outputs": [],
   "source": [
    "from sklearn.datasets import load_breast_cancer\n",
    "\n",
    "breast_cancer = load_breast_cancer()\n",
    "# brest_cancer.feature_name\n",
    "\n",
    "X = breast_cancer.data"
   ]
  },
  {
   "cell_type": "markdown",
   "metadata": {},
   "source": [
    "2.2 El target del dataset puede tomar 2 valores:\n",
    "- Maligno = 0\n",
    "- Benigno = 1"
   ]
  },
  {
   "cell_type": "code",
   "execution_count": 3,
   "metadata": {},
   "outputs": [],
   "source": [
    "y = breast_cancer.target"
   ]
  },
  {
   "cell_type": "markdown",
   "metadata": {},
   "source": [
    "2.3 Se instancia el clasificador"
   ]
  },
  {
   "cell_type": "code",
   "execution_count": 4,
   "metadata": {},
   "outputs": [],
   "source": [
    "from sklearn import neighbors\n",
    "clf = neighbors.KNeighborsClassifier(n_neighbors=10, weights='distance')"
   ]
  },
  {
   "cell_type": "markdown",
   "metadata": {},
   "source": [
    "#### 3) Se aplica z-score para normalizar los valores de los features."
   ]
  },
  {
   "cell_type": "code",
   "execution_count": 5,
   "metadata": {
    "collapsed": true
   },
   "outputs": [],
   "source": [
    "from scipy import stats\n",
    "\n",
    "# X2 = stats.zscore(X)\n",
    "# hola = X[:,1]\n",
    "X_norm = stats.zscore(X)\n",
    "\n",
    "# for i in range(0, X.shape[1]):\n",
    "#     X2[:, i] = stats.zscore(X, axis=i+1)\n",
    "\n",
    "# print(X_norm[:10])\n",
    "# print(X2[:10, 1])\n",
    "#     \n",
    "# for i in range(0, X_norm.shape[0]):\n",
    "#     if X_norm[i] != X2[i, 1]:\n",
    "#         print(X_norm[i])\n",
    "#         print(X2[i, 1])\n",
    "#         print('--------------------------------')"
   ]
  },
  {
   "cell_type": "markdown",
   "metadata": {},
   "source": [
    "3.1 Se divide en conjunto de entrenamiento y de test"
   ]
  },
  {
   "cell_type": "code",
   "execution_count": 6,
   "metadata": {},
   "outputs": [],
   "source": [
    "from sklearn.model_selection import train_test_split\n",
    "\n",
    "X_train, X_test, y_train, y_test = train_test_split(X_norm, y, random_state=random_state, test_size=0.3)"
   ]
  },
  {
   "cell_type": "markdown",
   "metadata": {},
   "source": [
    "3.2 Se entrena el modelo y se obtiene la tasa de aciertos del clasificador"
   ]
  },
  {
   "cell_type": "code",
   "execution_count": 7,
   "metadata": {},
   "outputs": [
    {
     "name": "stdout",
     "output_type": "stream",
     "text": [
      "Porcentaje de aciertos en la clasificación:  0.964912280702\n"
     ]
    }
   ],
   "source": [
    "clf.fit(X_train, y_train)\n",
    "y_hat = clf.predict(X_test)\n",
    "print('Porcentaje de aciertos en la clasificación: ', clf.score(X_test,y_test))"
   ]
  },
  {
   "cell_type": "markdown",
   "metadata": {},
   "source": [
    "#### 4) Se modifican las salidas del clasificador para que el mismo realice la mayor reducción posible del costo por errores de clasificación y se imprimen dichas salidas."
   ]
  },
  {
   "cell_type": "markdown",
   "metadata": {},
   "source": [
    "4.1 Se define la función *calculo_costo_salida* que va a ser encargada de calcular el costo total en función de los valores que se le pasan como parámetros."
   ]
  },
  {
   "cell_type": "code",
   "execution_count": 8,
   "metadata": {},
   "outputs": [],
   "source": [
    "from sklearn import metrics\n",
    "\n",
    "\n",
    "def calculo_costo_salida(costo_fp, costo_fn, X_test, y_test):\n",
    "    prob = clf.predict_proba(X_test)\n",
    "    y_hat_cost = []\n",
    "    c = costo_fn / costo_fp\n",
    "    umbral_fn = c / (c + 1)\n",
    "    for i in prob:\n",
    "        if i[0] == 0 or i[0] == 1:\n",
    "            if i[0] == 0:\n",
    "                y_hat_cost.append(1)\n",
    "            else:\n",
    "                y_hat_cost.append(0)\n",
    "        elif i[1] <= umbral_fn:\n",
    "            y_hat_cost.append(0)\n",
    "        elif i[1] > umbral_fn:\n",
    "            y_hat_cost.append(1)\n",
    "            # Con [1,0] decimos que el 1 es positivo y el 0 es negativo.\n",
    "    confusion_matrix = metrics.confusion_matrix(y_test, y_hat_cost, [1,0])\n",
    "    costo_fp_total = metrics.confusion_matrix(y_test, y_hat_cost)[0, 1] * costo_fp\n",
    "    costo_fn_total = metrics.confusion_matrix(y_test, y_hat_cost)[1, 0] * costo_fn\n",
    "    costo_salida = costo_fp_total + costo_fn_total\n",
    "    return costo_salida, confusion_matrix"
   ]
  },
  {
   "cell_type": "markdown",
   "metadata": {},
   "source": [
    "4.2 Se obtiene el costo para los valores de *costo_fn* y *costo_fp* establecidos.\n"
   ]
  },
  {
   "cell_type": "code",
   "execution_count": 9,
   "metadata": {
    "collapsed": true
   },
   "outputs": [
    {
     "name": "stdout",
     "output_type": "stream",
     "text": [
      "Costo total: 110 \n\nConfusion Matrix: \n [[103   5]\n [  2  61]]\n"
     ]
    }
   ],
   "source": [
    "salida = calculo_costo_salida(costo_fn=20, costo_fp=5, X_test=X_test, y_test=y_test)\n",
    "print('Costo total: {} \\n\\nConfusion Matrix: \\n {}'.format(\n",
    "    salida[0], salida[1]))"
   ]
  },
  {
   "cell_type": "markdown",
   "metadata": {},
   "source": [
    "#### 5) Selección de la cantidad de *n_neighbors* que menos costo genere."
   ]
  },
  {
   "cell_type": "code",
   "execution_count": 10,
   "metadata": {
    "collapsed": true
   },
   "outputs": [
    {
     "data": {
      "image/png": "[encoded data removed]",
      "text/plain": [
       "<matplotlib.figure.Figure at 0x7ff9e94ff0b8>"
      ]
     },
     "metadata": {},
     "output_type": "display_data"
    },
    {
     "name": "stdout",
     "output_type": "stream",
     "text": [
      "La cantidad de neighbors que da como mínimo costo 50 es: 6\n\nConfusion Matrix:\n [[106   2]\n [  2  61]]\n"
     ]
    }
   ],
   "source": [
    "import matplotlib.pyplot as plt\n",
    "import numpy as np\n",
    "costos = []\n",
    "confusion_matrix = []\n",
    "for i in range(1, X_train.shape[0]):\n",
    "    clf = neighbors.KNeighborsClassifier(n_neighbors=i, weights='distance')\n",
    "    X_norm = stats.zscore(X)\n",
    "    X_train, X_test, y_train, y_test = train_test_split(X_norm, y, random_state=random_state, test_size=0.3)\n",
    "    clf.fit(X_train, y_train)\n",
    "    y_hat = clf.predict(X_test)\n",
    "    salida = calculo_costo_salida(costo_fn=20, costo_fp=5, X_test=X_test, y_test=y_test)\n",
    "    costos.append(salida[0])\n",
    "    confusion_matrix.append(salida[1])\n",
    "plt.plot(range(1, X_train.shape[0]), costos, '-', range(1, X_train.shape[0])[np.argmin(costos)], min(costos), 'ro')\n",
    "plt.xlabel('Neighbors')\n",
    "plt.ylabel('Costo')\n",
    "plt.show()\n",
    "\n",
    "print('La cantidad de neighbors que da como mínimo costo {} es: {}\\n\\nConfusion Matrix:\\n {}'.format(\n",
    "    min(costos), range(1, X_train.shape[0])[np.argmin(costos)], confusion_matrix[np.argmin(costos)]))"
   ]
  },
  {
   "cell_type": "markdown",
   "metadata": {},
   "source": [
    "#### Fin"
   ]
  }
 ],
 "metadata": {
  "kernelspec": {
   "display_name": "Python 2",
   "language": "python",
   "name": "python2"
  },
  "language_info": {
   "codemirror_mode": {
    "name": "ipython",
    "version": 2.0
   },
   "file_extension": ".py",
   "mimetype": "text/x-python",
   "name": "python",
   "nbconvert_exporter": "python",
   "pygments_lexer": "ipython2",
   "version": "2.7.6"
  }
 },
 "nbformat": 4,
 "nbformat_minor": 0
}