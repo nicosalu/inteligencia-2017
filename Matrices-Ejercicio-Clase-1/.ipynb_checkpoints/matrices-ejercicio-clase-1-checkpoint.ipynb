{
 "cells": [
  {
   "cell_type": "markdown",
   "metadata": {
    "collapsed": true,
    "deletable": true,
    "editable": true
   },
   "source": [
    "# Matrices Ejercicio Clase 1\n",
    "## Nicolas Salusso\n",
    "\n",
    "En primer lugar se van construir las siguientes matrices utilizando la libreria numpy"
   ]
  },
  {
   "cell_type": "markdown",
   "metadata": {
    "deletable": true,
    "editable": true
   },
   "source": [
    "begin{bmatrix}\n",
    "    1 & 2 & 3 & 4 & 5 \\\\\n",
    "    3 & 4 & 5 & 6 & 7\n",
    "end{bmatrix}"
   ]
  }
 ],
 "metadata": {
  "kernelspec": {
   "display_name": "Python 3",
   "language": "python",
   "name": "python3"
  },
  "language_info": {
   "codemirror_mode": {
    "name": "ipython",
    "version": 3
   },
   "file_extension": ".py",
   "mimetype": "text/x-python",
   "name": "python",
   "nbconvert_exporter": "python",
   "pygments_lexer": "ipython3",
   "version": "3.6.1"
  }
 },
 "nbformat": 4,
 "nbformat_minor": 0
}
