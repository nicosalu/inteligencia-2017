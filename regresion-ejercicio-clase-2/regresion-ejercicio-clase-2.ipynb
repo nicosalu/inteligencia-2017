{
 "cells": [
  {
   "cell_type": "markdown",
   "metadata": {
    "collapsed": true
   },
   "source": [
    "# Regreción Ejercicio Clase 2\n",
    "## Nicolás Salusso - 10710\n",
    "\n",
    "1) Implementación de $f(x)$."
   ]
  },
  {
   "cell_type": "code",
   "execution_count": 1,
   "metadata": {},
   "outputs": [],
   "source": [
    "import numpy as np\n",
    "from scipy.stats import norm\n",
    "import matplotlib.pyplot as plt\n",
    "% matplotlib inline\n",
    "\n",
    "\n",
    "def f(x):\n",
    "    return (0.01 * x) + (np.sin(x)**2) * (np.sin(4 * x)**2) * (0.5 * norm.pdf(x))"
   ]
  },
  {
   "cell_type": "markdown",
   "metadata": {},
   "source": [
    "2) Obtención de las 500 muestras de la función $f(x)$ en el intervalo de $x=[-3 \\leq x \\leq 3]$."
   ]
  },
  {
   "cell_type": "code",
   "execution_count": 2,
   "metadata": {
    "collapsed": true
   },
   "outputs": [],
   "source": [
    "x = np.linspace(-3, 3, 500)\n",
    "y = f(x)"
   ]
  },
  {
   "cell_type": "markdown",
   "metadata": {},
   "source": [
    "3) Teniendo dichas muestras, se grafica $f(x)$ en el intervalo de $x=[-3 \\leq x \\leq 3]$."
   ]
  },
  {
   "cell_type": "code",
   "execution_count": 3,
   "metadata": {
    "collapsed": true
   },
   "outputs": [
    {
     "data": {
      "text/plain": [
       "[<matplotlib.lines.Line2D at 0x7fbc8e9cc6d8>]"
      ]
     },
     "execution_count": 3,
     "metadata": {},
     "output_type": "execute_result"
    },
    {
     "data": {
      "image/png": "[encoded data removed]",
      "text/plain": [
       "<matplotlib.figure.Figure at 0x7fbc930f8048>"
      ]
     },
     "metadata": {},
     "output_type": "display_data"
    }
   ],
   "source": [
    "import matplotlib.pyplot as plt\n",
    "% matplotlib inline\n",
    "\n",
    "plt.plot(x, y, 'o')"
   ]
  },
  {
   "cell_type": "markdown",
   "metadata": {},
   "source": [
    "4) Se divide el conjunto total $(x,f(x))$ en un subconjunto de entrenamiento del 70% de las muestras y un subconjunto de test del 30% de las muestras.\n",
    "* En primer lugar se genera la matriz que solicita como entrada scikit-learn para X."
   ]
  },
  {
   "cell_type": "code",
   "execution_count": 4,
   "metadata": {
    "collapsed": true
   },
   "outputs": [
    {
     "data": {
      "text/plain": [
       "array([[-3.        ],\n       [-2.98797595],\n       [-2.9759519 ],\n       [-2.96392786],\n       [-2.95190381],\n       [-2.93987976],\n       [-2.92785571],\n       [-2.91583166],\n       [-2.90380762],\n       [-2.89178357],\n       [-2.87975952],\n       [-2.86773547],\n       [-2.85571142],\n       [-2.84368737],\n       [-2.83166333],\n       [-2.81963928],\n       [-2.80761523],\n       [-2.79559118],\n       [-2.78356713],\n       [-2.77154309],\n       [-2.75951904],\n       [-2.74749499],\n       [-2.73547094],\n       [-2.72344689],\n       [-2.71142285],\n       [-2.6993988 ],\n       [-2.68737475],\n       [-2.6753507 ],\n       [-2.66332665],\n       [-2.65130261],\n       [-2.63927856],\n       [-2.62725451],\n       [-2.61523046],\n       [-2.60320641],\n       [-2.59118236],\n       [-2.57915832],\n       [-2.56713427],\n       [-2.55511022],\n       [-2.54308617],\n       [-2.53106212],\n       [-2.51903808],\n       [-2.50701403],\n       [-2.49498998],\n       [-2.48296593],\n       [-2.47094188],\n       [-2.45891784],\n       [-2.44689379],\n       [-2.43486974],\n       [-2.42284569],\n       [-2.41082164],\n       [-2.3987976 ],\n       [-2.38677355],\n       [-2.3747495 ],\n       [-2.36272545],\n       [-2.3507014 ],\n       [-2.33867735],\n       [-2.32665331],\n       [-2.31462926],\n       [-2.30260521],\n       [-2.29058116],\n       [-2.27855711],\n       [-2.26653307],\n       [-2.25450902],\n       [-2.24248497],\n       [-2.23046092],\n       [-2.21843687],\n       [-2.20641283],\n       [-2.19438878],\n       [-2.18236473],\n       [-2.17034068],\n       [-2.15831663],\n       [-2.14629259],\n       [-2.13426854],\n       [-2.12224449],\n       [-2.11022044],\n       [-2.09819639],\n       [-2.08617234],\n       [-2.0741483 ],\n       [-2.06212425],\n       [-2.0501002 ],\n       [-2.03807615],\n       [-2.0260521 ],\n       [-2.01402806],\n       [-2.00200401],\n       [-1.98997996],\n       [-1.97795591],\n       [-1.96593186],\n       [-1.95390782],\n       [-1.94188377],\n       [-1.92985972],\n       [-1.91783567],\n       [-1.90581162],\n       [-1.89378758],\n       [-1.88176353],\n       [-1.86973948],\n       [-1.85771543],\n       [-1.84569138],\n       [-1.83366733],\n       [-1.82164329],\n       [-1.80961924],\n       [-1.79759519],\n       [-1.78557114],\n       [-1.77354709],\n       [-1.76152305],\n       [-1.749499  ],\n       [-1.73747495],\n       [-1.7254509 ],\n       [-1.71342685],\n       [-1.70140281],\n       [-1.68937876],\n       [-1.67735471],\n       [-1.66533066],\n       [-1.65330661],\n       [-1.64128257],\n       [-1.62925852],\n       [-1.61723447],\n       [-1.60521042],\n       [-1.59318637],\n       [-1.58116232],\n       [-1.56913828],\n       [-1.55711423],\n       [-1.54509018],\n       [-1.53306613],\n       [-1.52104208],\n       [-1.50901804],\n       [-1.49699399],\n       [-1.48496994],\n       [-1.47294589],\n       [-1.46092184],\n       [-1.4488978 ],\n       [-1.43687375],\n       [-1.4248497 ],\n       [-1.41282565],\n       [-1.4008016 ],\n       [-1.38877756],\n       [-1.37675351],\n       [-1.36472946],\n       [-1.35270541],\n       [-1.34068136],\n       [-1.32865731],\n       [-1.31663327],\n       [-1.30460922],\n       [-1.29258517],\n       [-1.28056112],\n       [-1.26853707],\n       [-1.25651303],\n       [-1.24448898],\n       [-1.23246493],\n       [-1.22044088],\n       [-1.20841683],\n       [-1.19639279],\n       [-1.18436874],\n       [-1.17234469],\n       [-1.16032064],\n       [-1.14829659],\n       [-1.13627255],\n       [-1.1242485 ],\n       [-1.11222445],\n       [-1.1002004 ],\n       [-1.08817635],\n       [-1.0761523 ],\n       [-1.06412826],\n       [-1.05210421],\n       [-1.04008016],\n       [-1.02805611],\n       [-1.01603206],\n       [-1.00400802],\n       [-0.99198397],\n       [-0.97995992],\n       [-0.96793587],\n       [-0.95591182],\n       [-0.94388778],\n       [-0.93186373],\n       [-0.91983968],\n       [-0.90781563],\n       [-0.89579158],\n       [-0.88376754],\n       [-0.87174349],\n       [-0.85971944],\n       [-0.84769539],\n       [-0.83567134],\n       [-0.82364729],\n       [-0.81162325],\n       [-0.7995992 ],\n       [-0.78757515],\n       [-0.7755511 ],\n       [-0.76352705],\n       [-0.75150301],\n       [-0.73947896],\n       [-0.72745491],\n       [-0.71543086],\n       [-0.70340681],\n       [-0.69138277],\n       [-0.67935872],\n       [-0.66733467],\n       [-0.65531062],\n       [-0.64328657],\n       [-0.63126253],\n       [-0.61923848],\n       [-0.60721443],\n       [-0.59519038],\n       [-0.58316633],\n       [-0.57114228],\n       [-0.55911824],\n       [-0.54709419],\n       [-0.53507014],\n       [-0.52304609],\n       [-0.51102204],\n       [-0.498998  ],\n       [-0.48697395],\n       [-0.4749499 ],\n       [-0.46292585],\n       [-0.4509018 ],\n       [-0.43887776],\n       [-0.42685371],\n       [-0.41482966],\n       [-0.40280561],\n       [-0.39078156],\n       [-0.37875752],\n       [-0.36673347],\n       [-0.35470942],\n       [-0.34268537],\n       [-0.33066132],\n       [-0.31863727],\n       [-0.30661323],\n       [-0.29458918],\n       [-0.28256513],\n       [-0.27054108],\n       [-0.25851703],\n       [-0.24649299],\n       [-0.23446894],\n       [-0.22244489],\n       [-0.21042084],\n       [-0.19839679],\n       [-0.18637275],\n       [-0.1743487 ],\n       [-0.16232465],\n       [-0.1503006 ],\n       [-0.13827655],\n       [-0.12625251],\n       [-0.11422846],\n       [-0.10220441],\n       [-0.09018036],\n       [-0.07815631],\n       [-0.06613226],\n       [-0.05410822],\n       [-0.04208417],\n       [-0.03006012],\n       [-0.01803607],\n       [-0.00601202],\n       [ 0.00601202],\n       [ 0.01803607],\n       [ 0.03006012],\n       [ 0.04208417],\n       [ 0.05410822],\n       [ 0.06613226],\n       [ 0.07815631],\n       [ 0.09018036],\n       [ 0.10220441],\n       [ 0.11422846],\n       [ 0.12625251],\n       [ 0.13827655],\n       [ 0.1503006 ],\n       [ 0.16232465],\n       [ 0.1743487 ],\n       [ 0.18637275],\n       [ 0.19839679],\n       [ 0.21042084],\n       [ 0.22244489],\n       [ 0.23446894],\n       [ 0.24649299],\n       [ 0.25851703],\n       [ 0.27054108],\n       [ 0.28256513],\n       [ 0.29458918],\n       [ 0.30661323],\n       [ 0.31863727],\n       [ 0.33066132],\n       [ 0.34268537],\n       [ 0.35470942],\n       [ 0.36673347],\n       [ 0.37875752],\n       [ 0.39078156],\n       [ 0.40280561],\n       [ 0.41482966],\n       [ 0.42685371],\n       [ 0.43887776],\n       [ 0.4509018 ],\n       [ 0.46292585],\n       [ 0.4749499 ],\n       [ 0.48697395],\n       [ 0.498998  ],\n       [ 0.51102204],\n       [ 0.52304609],\n       [ 0.53507014],\n       [ 0.54709419],\n       [ 0.55911824],\n       [ 0.57114228],\n       [ 0.58316633],\n       [ 0.59519038],\n       [ 0.60721443],\n       [ 0.61923848],\n       [ 0.63126253],\n       [ 0.64328657],\n       [ 0.65531062],\n       [ 0.66733467],\n       [ 0.67935872],\n       [ 0.69138277],\n       [ 0.70340681],\n       [ 0.71543086],\n       [ 0.72745491],\n       [ 0.73947896],\n       [ 0.75150301],\n       [ 0.76352705],\n       [ 0.7755511 ],\n       [ 0.78757515],\n       [ 0.7995992 ],\n       [ 0.81162325],\n       [ 0.82364729],\n       [ 0.83567134],\n       [ 0.84769539],\n       [ 0.85971944],\n       [ 0.87174349],\n       [ 0.88376754],\n       [ 0.89579158],\n       [ 0.90781563],\n       [ 0.91983968],\n       [ 0.93186373],\n       [ 0.94388778],\n       [ 0.95591182],\n       [ 0.96793587],\n       [ 0.97995992],\n       [ 0.99198397],\n       [ 1.00400802],\n       [ 1.01603206],\n       [ 1.02805611],\n       [ 1.04008016],\n       [ 1.05210421],\n       [ 1.06412826],\n       [ 1.0761523 ],\n       [ 1.08817635],\n       [ 1.1002004 ],\n       [ 1.11222445],\n       [ 1.1242485 ],\n       [ 1.13627255],\n       [ 1.14829659],\n       [ 1.16032064],\n       [ 1.17234469],\n       [ 1.18436874],\n       [ 1.19639279],\n       [ 1.20841683],\n       [ 1.22044088],\n       [ 1.23246493],\n       [ 1.24448898],\n       [ 1.25651303],\n       [ 1.26853707],\n       [ 1.28056112],\n       [ 1.29258517],\n       [ 1.30460922],\n       [ 1.31663327],\n       [ 1.32865731],\n       [ 1.34068136],\n       [ 1.35270541],\n       [ 1.36472946],\n       [ 1.37675351],\n       [ 1.38877756],\n       [ 1.4008016 ],\n       [ 1.41282565],\n       [ 1.4248497 ],\n       [ 1.43687375],\n       [ 1.4488978 ],\n       [ 1.46092184],\n       [ 1.47294589],\n       [ 1.48496994],\n       [ 1.49699399],\n       [ 1.50901804],\n       [ 1.52104208],\n       [ 1.53306613],\n       [ 1.54509018],\n       [ 1.55711423],\n       [ 1.56913828],\n       [ 1.58116232],\n       [ 1.59318637],\n       [ 1.60521042],\n       [ 1.61723447],\n       [ 1.62925852],\n       [ 1.64128257],\n       [ 1.65330661],\n       [ 1.66533066],\n       [ 1.67735471],\n       [ 1.68937876],\n       [ 1.70140281],\n       [ 1.71342685],\n       [ 1.7254509 ],\n       [ 1.73747495],\n       [ 1.749499  ],\n       [ 1.76152305],\n       [ 1.77354709],\n       [ 1.78557114],\n       [ 1.79759519],\n       [ 1.80961924],\n       [ 1.82164329],\n       [ 1.83366733],\n       [ 1.84569138],\n       [ 1.85771543],\n       [ 1.86973948],\n       [ 1.88176353],\n       [ 1.89378758],\n       [ 1.90581162],\n       [ 1.91783567],\n       [ 1.92985972],\n       [ 1.94188377],\n       [ 1.95390782],\n       [ 1.96593186],\n       [ 1.97795591],\n       [ 1.98997996],\n       [ 2.00200401],\n       [ 2.01402806],\n       [ 2.0260521 ],\n       [ 2.03807615],\n       [ 2.0501002 ],\n       [ 2.06212425],\n       [ 2.0741483 ],\n       [ 2.08617234],\n       [ 2.09819639],\n       [ 2.11022044],\n       [ 2.12224449],\n       [ 2.13426854],\n       [ 2.14629259],\n       [ 2.15831663],\n       [ 2.17034068],\n       [ 2.18236473],\n       [ 2.19438878],\n       [ 2.20641283],\n       [ 2.21843687],\n       [ 2.23046092],\n       [ 2.24248497],\n       [ 2.25450902],\n       [ 2.26653307],\n       [ 2.27855711],\n       [ 2.29058116],\n       [ 2.30260521],\n       [ 2.31462926],\n       [ 2.32665331],\n       [ 2.33867735],\n       [ 2.3507014 ],\n       [ 2.36272545],\n       [ 2.3747495 ],\n       [ 2.38677355],\n       [ 2.3987976 ],\n       [ 2.41082164],\n       [ 2.42284569],\n       [ 2.43486974],\n       [ 2.44689379],\n       [ 2.45891784],\n       [ 2.47094188],\n       [ 2.48296593],\n       [ 2.49498998],\n       [ 2.50701403],\n       [ 2.51903808],\n       [ 2.53106212],\n       [ 2.54308617],\n       [ 2.55511022],\n       [ 2.56713427],\n       [ 2.57915832],\n       [ 2.59118236],\n       [ 2.60320641],\n       [ 2.61523046],\n       [ 2.62725451],\n       [ 2.63927856],\n       [ 2.65130261],\n       [ 2.66332665],\n       [ 2.6753507 ],\n       [ 2.68737475],\n       [ 2.6993988 ],\n       [ 2.71142285],\n       [ 2.72344689],\n       [ 2.73547094],\n       [ 2.74749499],\n       [ 2.75951904],\n       [ 2.77154309],\n       [ 2.78356713],\n       [ 2.79559118],\n       [ 2.80761523],\n       [ 2.81963928],\n       [ 2.83166333],\n       [ 2.84368737],\n       [ 2.85571142],\n       [ 2.86773547],\n       [ 2.87975952],\n       [ 2.89178357],\n       [ 2.90380762],\n       [ 2.91583166],\n       [ 2.92785571],\n       [ 2.93987976],\n       [ 2.95190381],\n       [ 2.96392786],\n       [ 2.9759519 ],\n       [ 2.98797595],\n       [ 3.        ]])"
      ]
     },
     "execution_count": 4,
     "metadata": {},
     "output_type": "execute_result"
    }
   ],
   "source": [
    "X = x[:, np.newaxis]\n",
    "X"
   ]
  },
  {
   "cell_type": "markdown",
   "metadata": {},
   "source": [
    "* En segundo lugar se definen los subconjuntos."
   ]
  },
  {
   "cell_type": "code",
   "execution_count": 5,
   "metadata": {},
   "outputs": [],
   "source": [
    "X_train = X[0:350]\n",
    "X_test = X[350:500]\n",
    "y_train = y[0:350]\n",
    "y_test = y[350:500]"
   ]
  },
  {
   "cell_type": "markdown",
   "metadata": {},
   "source": [
    "* En tercer lugar se implementa la siguiente línea de código para corroborar que lo realizado anteriormente este correcto. "
   ]
  },
  {
   "cell_type": "code",
   "execution_count": 6,
   "metadata": {},
   "outputs": [
    {
     "data": {
      "text/plain": [
       "(350, 1)"
      ]
     },
     "execution_count": 6,
     "metadata": {},
     "output_type": "execute_result"
    }
   ],
   "source": [
    "np.shape(X_train)"
   ]
  },
  {
   "cell_type": "markdown",
   "metadata": {},
   "source": [
    "5) Se usar el subconjunto de entrenamiento para entrenar un modelo de regresión lineal para aproximar $f(x)$ en el mencionado intervalo."
   ]
  },
  {
   "cell_type": "code",
   "execution_count": 7,
   "metadata": {
    "collapsed": true
   },
   "outputs": [
    {
     "data": {
      "text/plain": [
       "LinearRegression(copy_X=True, fit_intercept=True, n_jobs=1, normalize=False)"
      ]
     },
     "execution_count": 7,
     "metadata": {},
     "output_type": "execute_result"
    }
   ],
   "source": [
    "from sklearn.linear_model import LinearRegression\n",
    "\n",
    "regressor = LinearRegression()\n",
    "regressor.fit(X_train, y_train)"
   ]
  },
  {
   "cell_type": "markdown",
   "metadata": {},
   "source": [
    "6) Se muestra gráficamente la regresión para el conjunto de entrenamiento y para el conjunto de test.\n",
    "* Conjunto de entrenamiento:"
   ]
  },
  {
   "cell_type": "code",
   "execution_count": 8,
   "metadata": {},
   "outputs": [
    {
     "data": {
      "text/plain": [
       "[<matplotlib.lines.Line2D at 0x7fbc8b6ed128>]"
      ]
     },
     "execution_count": 8,
     "metadata": {},
     "output_type": "execute_result"
    },
    {
     "data": {
      "image/png": "[encoded data removed]",
      "text/plain": [
       "<matplotlib.figure.Figure at 0x7fbc8b6ed160>"
      ]
     },
     "metadata": {},
     "output_type": "display_data"
    }
   ],
   "source": [
    "min_pt = X.min() * regressor.coef_[0] + regressor.intercept_\n",
    "max_pt = X.max() * regressor.coef_[0] + regressor.intercept_\n",
    "plt.plot([X.min(), X.max()], [min_pt, max_pt])\n",
    "plt.plot(X_train, y_train, 'o')"
   ]
  },
  {
   "cell_type": "markdown",
   "metadata": {},
   "source": [
    "* Conjunto de test:"
   ]
  },
  {
   "cell_type": "code",
   "execution_count": 9,
   "metadata": {},
   "outputs": [
    {
     "data": {
      "text/plain": [
       "[<matplotlib.lines.Line2D at 0x7fbc8b680a90>]"
      ]
     },
     "execution_count": 9,
     "metadata": {},
     "output_type": "execute_result"
    },
    {
     "data": {
      "image/png": "[encoded data removed]",
      "text/plain": [
       "<matplotlib.figure.Figure at 0x7fbc8b6809b0>"
      ]
     },
     "metadata": {},
     "output_type": "display_data"
    }
   ],
   "source": [
    "min_pt = X.min() * regressor.coef_[0] + regressor.intercept_\n",
    "max_pt = X.max() * regressor.coef_[0] + regressor.intercept_\n",
    "plt.plot([X.min(), X.max()], [min_pt, max_pt])\n",
    "plt.plot(X_test, y_test, 'o')"
   ]
  },
  {
   "cell_type": "markdown",
   "metadata": {},
   "source": [
    "7) Se imprime el error cuadrático medio para las predicciones sobre los $X$ de entrenamiento y los $X$ de test.\n",
    "* Error cuadrático medio para las predicciones sobre los $X$ de entrenamiento:"
   ]
  },
  {
   "cell_type": "code",
   "execution_count": 10,
   "metadata": {},
   "outputs": [
    {
     "data": {
      "text/plain": [
       "0.00051508308831770097"
      ]
     },
     "execution_count": 10,
     "metadata": {},
     "output_type": "execute_result"
    }
   ],
   "source": [
    "from sklearn.metrics import mean_squared_error\n",
    "\n",
    "y_pred_train = regressor.predict(X_train)\n",
    "mean_squared_error(y_train, y_pred_train)"
   ]
  },
  {
   "cell_type": "markdown",
   "metadata": {},
   "source": [
    "* Error cuadrático medio para las predicciones sobre los $X$ de test:"
   ]
  },
  {
   "cell_type": "code",
   "execution_count": 11,
   "metadata": {},
   "outputs": [
    {
     "data": {
      "text/plain": [
       "0.0010926307695542973"
      ]
     },
     "execution_count": 11,
     "metadata": {},
     "output_type": "execute_result"
    }
   ],
   "source": [
    "y_pred_test = regressor.predict(X_test)\n",
    "mean_squared_error(y_test, y_pred_test)"
   ]
  },
  {
   "cell_type": "markdown",
   "metadata": {},
   "source": [
    "Fin"
   ]
  }
 ],
 "metadata": {
  "kernelspec": {
   "display_name": "Python 2",
   "language": "python",
   "name": "python2"
  },
  "language_info": {
   "codemirror_mode": {
    "name": "ipython",
    "version": 2.0
   },
   "file_extension": ".py",
   "mimetype": "text/x-python",
   "name": "python",
   "nbconvert_exporter": "python",
   "pygments_lexer": "ipython2",
   "version": "2.7.6"
  }
 },
 "nbformat": 4,
 "nbformat_minor": 0
}