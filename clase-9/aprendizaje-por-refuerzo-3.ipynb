{
 "cells": [
  {
   "cell_type": "markdown",
   "metadata": {
    "collapsed": true
   },
   "source": [
    "# Introducción al Aprendizaje por Refuerzos III\n",
    "## Nicolás Salusso - 10710"
   ]
  },
  {
   "cell_type": "markdown",
   "metadata": {},
   "source": [
    "### 1.1 - Modificación de la implementación de Q-Learning realizada en el TP 8, para integrar aprendizaje basado en modelos (Dyna-Q)."
   ]
  },
  {
   "cell_type": "markdown",
   "metadata": {},
   "source": [
    "#### Definición del modelo"
   ]
  },
  {
   "cell_type": "code",
   "execution_count": 1,
   "metadata": {
    "collapsed": true
   },
   "outputs": [],
   "source": [
    "from __future__ import print_function\n",
    "import numpy as np\n",
    "import matplotlib.pyplot as plt\n",
    "import random\n",
    "\n",
    "# tamaño del entorno (Alto)\n",
    "WORLD_HEIGHT = 7\n",
    "\n",
    "# tamaño del entorno (Ancho)\n",
    "WORLD_WIDTH = 10\n",
    "\n",
    "# Fuerza del viento para cada columna\n",
    "WIND = [0, 0, 0, 1, 1, 1, 2, 2, 1, 0]\n",
    "\n",
    "# Acciones posibles\n",
    "ACTION_UP = 0\n",
    "ACTION_DOWN = 1\n",
    "ACTION_LEFT = 2\n",
    "ACTION_RIGHT = 3\n",
    "\n",
    "# probabilidad de exploración\n",
    "EPSILON = 0.1\n",
    "\n",
    "# Learning rate\n",
    "ALPHA = 0.5\n",
    "\n",
    "# reward\n",
    "REWARD = -1.0\n",
    "\n",
    "# valor de los pares estado acción\n",
    "stateActionValues = np.zeros((WORLD_HEIGHT, WORLD_WIDTH, 4))\n",
    "startState = [3, 0]\n",
    "goalState = [3, 7]\n",
    "actions = [ACTION_UP, ACTION_DOWN, ACTION_LEFT, ACTION_RIGHT]\n",
    "\n",
    "\n",
    "# Model (s, a)\n",
    "model_R = np.zeros((WORLD_HEIGHT, WORLD_WIDTH, 4))\n",
    "model_S_i = np.zeros((WORLD_HEIGHT, WORLD_WIDTH, 4))\n",
    "model_S_j = np.zeros((WORLD_HEIGHT, WORLD_WIDTH, 4))\n",
    "\n",
    "# transiciones de estado\n",
    "actionDestination = []\n",
    "for i in range(0, WORLD_HEIGHT):\n",
    "    actionDestination.append([])\n",
    "    for j in range(0, WORLD_WIDTH):\n",
    "        destination = dict()\n",
    "        destination[ACTION_UP] = [max(i - 1 - WIND[j], 0), j]\n",
    "        destination[ACTION_DOWN] = [max(min(i + 1 - WIND[j], WORLD_HEIGHT - 1), 0), j]\n",
    "        destination[ACTION_LEFT] = [max(i - WIND[j], 0), max(j - 1, 0)]\n",
    "        destination[ACTION_RIGHT] = [max(i - WIND[j], 0), min(j + 1, WORLD_WIDTH - 1)]\n",
    "        actionDestination[-1].append(destination)"
   ]
  },
  {
   "cell_type": "markdown",
   "metadata": {},
   "source": [
    "#### Función de iteración en un episodio"
   ]
  },
  {
   "cell_type": "code",
   "execution_count": 2,
   "metadata": {},
   "outputs": [],
   "source": [
    "def oneEpisode():\n",
    "    \n",
    "    # acumulador de steps en el episodio\n",
    "    time = 0\n",
    "\n",
    "    # estado inicial\n",
    "    currentState = startState\n",
    "    \n",
    "    # Función que selecciona la acción basada en epsilon-greedy\n",
    "    def accion_por_politica():\n",
    "        if np.random.binomial(1, EPSILON) == 1:\n",
    "            accion = np.random.choice(actions)\n",
    "        else:\n",
    "            accion = np.argmax(stateActionValues[currentState[0], currentState[1], :])\n",
    "        return accion\n",
    "        \n",
    "\n",
    "    # selección de acción basada en epsilon-greedy\n",
    "    currentAction = accion_por_politica()\n",
    "\n",
    "    # interactuar hasta arribar al estado objetivo\n",
    "    while currentState != goalState:\n",
    "        newState = actionDestination[currentState[0]][currentState[1]][currentAction]\n",
    "        \n",
    "        max_action = np.argmax(stateActionValues[newState[0], newState[1], :])\n",
    "        \n",
    "        stateActionValues[currentState[0], currentState[1], currentAction] += \\\n",
    "            ALPHA * (REWARD + stateActionValues[newState[0], newState[1], max_action] -\n",
    "            stateActionValues[currentState[0], currentState[1], currentAction])\n",
    "        \n",
    "        model_R[currentState[0], currentState[1], currentAction] = REWARD\n",
    "        model_S_i[currentState[0], currentState[1], currentAction] = newState[0]\n",
    "        model_S_j[currentState[0], currentState[1], currentAction] = newState[1]\n",
    "        \n",
    "        for n in range(0, 20):\n",
    "            state = []\n",
    "            state.append([])\n",
    "            state.append([])\n",
    "            state[0] = random.randint(0, WORLD_HEIGHT - 1)\n",
    "            state[1] = random.randint(0, WORLD_WIDTH - 1)\n",
    "            accion = np.random.choice(actions)\n",
    "            r = model_R[state[0], state[1], accion]\n",
    "            s_prima_i = int(model_S_i[state[0], state[1], accion])\n",
    "            s_prima_j = int(model_S_j[state[0], state[1], accion])\n",
    "            \n",
    "            max_action = np.argmax(stateActionValues[s_prima_i, s_prima_j, :])\n",
    "            \n",
    "            stateActionValues[state[0], state[1], accion] += \\\n",
    "            ALPHA * (r + stateActionValues[s_prima_i, s_prima_j, max_action] -\n",
    "            stateActionValues[state[0], state[1], accion])\n",
    "            \n",
    "        currentState = newState\n",
    "        currentAction = accion_por_politica()\n",
    "        \n",
    "        time += 1\n",
    "    return time"
   ]
  },
  {
   "cell_type": "markdown",
   "metadata": {},
   "source": [
    "#### Ejecución de los 500 episodios y obtención de política óptima y gráfica."
   ]
  },
  {
   "cell_type": "code",
   "execution_count": 3,
   "metadata": {},
   "outputs": [
    {
     "data": {
      "image/png": "[encoded data removed]",
      "text/plain": [
       "<matplotlib.figure.Figure at 0x7faf92accba8>"
      ]
     },
     "metadata": {},
     "output_type": "display_data"
    },
    {
     "name": "stdout",
     "output_type": "stream",
     "text": [
      "['D', 'D', 'D', 'L', 'L', 'L', 'L', 'D', 'L', 'U']\n['U', 'U', 'D', 'L', 'D', 'D', 'L', 'R', 'L', 'R']\n['D', 'L', 'L', 'R', 'D', 'L', 'R', 'D', 'D', 'U']\n['D', 'D', 'L', 'L', 'U', 'L', 'L', 'G', 'L', 'D']\n['D', 'U', 'L', 'R', 'U', 'D', 'D', 'D', 'L', 'L']\n['D', 'U', 'D', 'D', 'R', 'U', 'D', 'D', 'L', 'U']\n['U', 'R', 'D', 'D', 'U', 'D', 'R', 'R', 'U', 'U']\n['0', '0', '0', '1', '1', '1', '2', '2', '1', '0']\n"
     ]
    }
   ],
   "source": [
    "# Cantidad de episodios\n",
    "episodeLimit = 500\n",
    "ep = 0\n",
    "episodes_dyna_q = []\n",
    "time = 0\n",
    "time_acum = 0\n",
    "grafica_dyna_q = []\n",
    "while ep < episodeLimit:\n",
    "    time = oneEpisode()\n",
    "    episodes_dyna_q.extend([ep] * time)\n",
    "    time_acum += time\n",
    "    grafica_dyna_q.append(time_acum/(ep + 1))\n",
    "    ep += 1\n",
    "\n",
    "plt.figure(figsize=(12, 8))\n",
    "plt.plot(episodes_dyna_q)\n",
    "plt.xlabel('Time steps')\n",
    "plt.ylabel('Episodes')\n",
    "plt.show()\n",
    "\n",
    "# Selección Greedy sobre la política...\n",
    "optimalPolicyDynaQ = []\n",
    "for i in range(0, WORLD_HEIGHT):\n",
    "    optimalPolicyDynaQ.append([])\n",
    "    for j in range(0, WORLD_WIDTH):\n",
    "        if [i, j] == goalState:\n",
    "            optimalPolicyDynaQ[-1].append('G')\n",
    "            continue\n",
    "        bestAction = np.argmax(stateActionValues[i, j, :])\n",
    "        if bestAction == ACTION_UP:\n",
    "            optimalPolicyDynaQ[-1].append('U')\n",
    "        elif bestAction == ACTION_DOWN:\n",
    "            optimalPolicyDynaQ[-1].append('D')\n",
    "        elif bestAction == ACTION_LEFT:\n",
    "            optimalPolicyDynaQ[-1].append('L')\n",
    "        elif bestAction == ACTION_RIGHT:\n",
    "            optimalPolicyDynaQ[-1].append('R')\n",
    "for row in optimalPolicyDynaQ:\n",
    "    print(row)\n",
    "print([str(w) for w in WIND])"
   ]
  },
  {
   "cell_type": "markdown",
   "metadata": {},
   "source": [
    "### 1.2 - Comparación de la convergencia de la implementación basada en $Sarsa(\\lambda)$, respecto a la implementación de Dyna-Q empleando una gráfica de Steps Acumulados Promedio vs. Episodio."
   ]
  },
  {
   "cell_type": "markdown",
   "metadata": {},
   "source": [
    "#### $Sarsa(\\lambda)$"
   ]
  },
  {
   "cell_type": "markdown",
   "metadata": {},
   "source": [
    "#### Definición del modelo"
   ]
  },
  {
   "cell_type": "code",
   "execution_count": 4,
   "metadata": {},
   "outputs": [],
   "source": [
    "from __future__ import print_function\n",
    "import numpy as np\n",
    "# from python_utils.import_ import import_global\n",
    "import matplotlib.pyplot as plt\n",
    "\n",
    "\n",
    "# tamaño del entorno (Alto)\n",
    "WORLD_HEIGHT = 7\n",
    "\n",
    "# tamaño del entorno (Ancho)\n",
    "WORLD_WIDTH = 10\n",
    "\n",
    "# Fuerza del viento para cada columna\n",
    "WIND = [0, 0, 0, 1, 1, 1, 2, 2, 1, 0]\n",
    "\n",
    "# Acciones posibles\n",
    "ACTION_UP = 0\n",
    "ACTION_DOWN = 1\n",
    "ACTION_LEFT = 2\n",
    "ACTION_RIGHT = 3\n",
    "\n",
    "# probabilidad de exploración\n",
    "EPSILON = 0.1\n",
    "\n",
    "# Learning rate\n",
    "ALPHA = 0.5\n",
    "\n",
    "# reward\n",
    "REWARD = -1.0\n",
    "\n",
    "# valor de los pares estado acción\n",
    "stateActionValues = np.zeros((WORLD_HEIGHT, WORLD_WIDTH, 4))\n",
    "startState = [3, 0]\n",
    "goalState = [3, 7]\n",
    "actions = [ACTION_UP, ACTION_DOWN, ACTION_LEFT, ACTION_RIGHT]\n",
    "\n",
    "# transiciones de estado\n",
    "actionDestination = []\n",
    "for i in range(0, WORLD_HEIGHT):\n",
    "    actionDestination.append([])\n",
    "    for j in range(0, WORLD_WIDTH):\n",
    "        destination = dict()\n",
    "        destination[ACTION_UP] = [max(i - 1 - WIND[j], 0), j]\n",
    "        destination[ACTION_DOWN] = [max(min(i + 1 - WIND[j], WORLD_HEIGHT - 1), 0), j]\n",
    "        destination[ACTION_LEFT] = [max(i - WIND[j], 0), max(j - 1, 0)]\n",
    "        destination[ACTION_RIGHT] = [max(i - WIND[j], 0), min(j + 1, WORLD_WIDTH - 1)]\n",
    "        actionDestination[-1].append(destination)\n",
    "\n",
    "# LAMBDA\n",
    "LAMBDA = 0.8\n",
    "\n",
    "# Traza\n",
    "e = np.zeros((WORLD_HEIGHT, WORLD_WIDTH, 4))"
   ]
  },
  {
   "cell_type": "markdown",
   "metadata": {},
   "source": [
    "#### Función de iteración en un episodio"
   ]
  },
  {
   "cell_type": "code",
   "execution_count": 5,
   "metadata": {},
   "outputs": [],
   "source": [
    "# interacción en un episodio\n",
    "def oneEpisode():\n",
    "    # acumulador de steps en el episodio\n",
    "    time = 0\n",
    "\n",
    "    # estado inicial\n",
    "    currentState = startState\n",
    "\n",
    "    # selección de acción basade en epsilon-greedy\n",
    "    if np.random.binomial(1, EPSILON) == 1:\n",
    "        currentAction = np.random.choice(actions)\n",
    "    else:\n",
    "        currentAction = np.argmax(stateActionValues[currentState[0], currentState[1], :])\n",
    "\n",
    "    # interactuar hasta arribar al estado objetivo\n",
    "    while currentState != goalState:\n",
    "        newState = actionDestination[currentState[0]][currentState[1]][currentAction]\n",
    "        if np.random.binomial(1, EPSILON) == 1:\n",
    "            newAction = np.random.choice(actions)\n",
    "        else:\n",
    "            newAction = np.argmax(stateActionValues[newState[0], newState[1], :])\n",
    "            \n",
    "        # Sarsa(lambda) update\n",
    "        \n",
    "        # Se define delta\n",
    "        delta = (REWARD + stateActionValues[newState[0], newState[1], newAction] -\n",
    "            stateActionValues[currentState[0], currentState[1], currentAction])\n",
    "        \n",
    "        # Se actualiza la traza en el estado que se paso.\n",
    "        e[currentState[0], currentState[1], currentAction] += 1\n",
    "        \n",
    "        for i in range(0, WORLD_HEIGHT):\n",
    "            for j in range(0, WORLD_WIDTH):\n",
    "                for action in actions:\n",
    "                    stateActionValues[i, j, action] += ALPHA * delta * e[i, j, action]\n",
    "                    e[i, j, action] = LAMBDA * e[i, j, action]\n",
    "\n",
    "        currentState = newState\n",
    "        currentAction = newAction\n",
    "        time += 1\n",
    "    return time"
   ]
  },
  {
   "cell_type": "markdown",
   "metadata": {},
   "source": [
    "#### Ejecución de los 500 episodios."
   ]
  },
  {
   "cell_type": "code",
   "execution_count": 6,
   "metadata": {},
   "outputs": [],
   "source": [
    "# Cantidad de episodios\n",
    "\n",
    "episodeLimit = 500\n",
    "ep = 0\n",
    "episodes_graf_sarsa_lambda = []\n",
    "time = 0\n",
    "time_acum = 0\n",
    "grafica_sarsa_lambda = []\n",
    "while ep < episodeLimit:\n",
    "    time = oneEpisode()\n",
    "    episodes_graf_sarsa_lambda.extend([ep] * time)\n",
    "    time_acum += time\n",
    "    grafica_sarsa_lambda.append(time_acum/(ep + 1))\n",
    "    ep += 1"
   ]
  },
  {
   "cell_type": "markdown",
   "metadata": {},
   "source": [
    "### Comparación"
   ]
  },
  {
   "cell_type": "code",
   "execution_count": 7,
   "metadata": {},
   "outputs": [
    {
     "data": {
      "image/png": "[encoded data removed]",
      "text/plain": [
       "<matplotlib.figure.Figure at 0x7fafc15a66d8>"
      ]
     },
     "metadata": {},
     "output_type": "display_data"
    },
    {
     "name": "stdout",
     "output_type": "stream",
     "text": [
      "SAP = Steps Acumulados Promedio\n"
     ]
    }
   ],
   "source": [
    "plt.figure(figsize=(15, 8))\n",
    "dyna_q = plt.plot(grafica_dyna_q, 'r-', label='SAP - Dyna Q')\n",
    "sarsa_lambda = plt.plot(grafica_sarsa_lambda, 'b-', label='SAP - SARSA(lambda)')\n",
    "plt.legend()\n",
    "plt.xlabel('Episodios')\n",
    "plt.ylabel('Steps Acumulados Promedio')\n",
    "plt.show()\n",
    "\n",
    "print('SAP = Steps Acumulados Promedio')"
   ]
  },
  {
   "cell_type": "code",
   "execution_count": null,
   "metadata": {},
   "outputs": [],
   "source": [
    ""
   ]
  }
 ],
 "metadata": {
  "kernelspec": {
   "display_name": "Python 2",
   "language": "python",
   "name": "python2"
  },
  "language_info": {
   "codemirror_mode": {
    "name": "ipython",
    "version": 2.0
   },
   "file_extension": ".py",
   "mimetype": "text/x-python",
   "name": "python",
   "nbconvert_exporter": "python",
   "pygments_lexer": "ipython2",
   "version": "2.7.6"
  }
 },
 "nbformat": 4,
 "nbformat_minor": 0
}