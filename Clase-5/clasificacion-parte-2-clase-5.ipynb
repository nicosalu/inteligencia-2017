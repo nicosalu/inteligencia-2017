{
 "cells": [
  {
   "cell_type": "markdown",
   "metadata": {
    "collapsed": true
   },
   "source": [
    "# Aprendizaje Supervisado\n",
    "# Clasificación Parte 1\n",
    "## Nicolás Salusso - 10710\n",
    "\n",
    "#### 1) Se declara la variable **random_state** que contiene mi número de alumno. "
   ]
  },
  {
   "cell_type": "code",
   "execution_count": 1,
   "metadata": {},
   "outputs": [],
   "source": [
    "random_state = 14"
   ]
  },
  {
   "cell_type": "markdown",
   "metadata": {},
   "source": [
    "#### 2) Se seleccionan los siguientes clasificadores a implementar:\n",
    "- Support Vector Machine. \n",
    "- Random Forest."
   ]
  },
  {
   "cell_type": "markdown",
   "metadata": {},
   "source": [
    "Se importa el dataset a utilizar"
   ]
  },
  {
   "cell_type": "code",
   "execution_count": 2,
   "metadata": {},
   "outputs": [],
   "source": [
    "from sklearn.datasets import load_digits\n",
    "\n",
    "digits = load_digits()\n",
    "\n",
    "X = digits.data\n",
    "y = digits.target"
   ]
  },
  {
   "cell_type": "markdown",
   "metadata": {},
   "source": [
    "Se normalizan los features."
   ]
  },
  {
   "cell_type": "code",
   "execution_count": 3,
   "metadata": {},
   "outputs": [],
   "source": [
    "from sklearn.preprocessing import scale\n",
    "\n",
    "X_norm = scale(X)"
   ]
  },
  {
   "cell_type": "markdown",
   "metadata": {},
   "source": [
    "2.1 Implementación de Support Vector Machine (SVM). Para este caso se utilizó SVC que se especificó para clasificadores."
   ]
  },
  {
   "cell_type": "code",
   "execution_count": 4,
   "metadata": {},
   "outputs": [],
   "source": [
    "from sklearn.svm import SVC\n",
    "\n",
    "clf = SVC(random_state=random_state)"
   ]
  },
  {
   "cell_type": "markdown",
   "metadata": {},
   "source": [
    "2.1.1 Se divide el subgrupo de Train y Test"
   ]
  },
  {
   "cell_type": "code",
   "execution_count": 5,
   "metadata": {},
   "outputs": [],
   "source": [
    "from sklearn.model_selection import train_test_split\n",
    "\n",
    "X_train, X_test, y_train, y_test = train_test_split(X_norm, y, random_state=random_state, test_size=0.3)"
   ]
  },
  {
   "cell_type": "markdown",
   "metadata": {},
   "source": [
    "2.1.2 Se entrena el modelo"
   ]
  },
  {
   "cell_type": "code",
   "execution_count": 6,
   "metadata": {},
   "outputs": [
    {
     "name": "stdout",
     "output_type": "stream",
     "text": [
      "SVC(C=1.0, cache_size=200, class_weight=None, coef0=0.0,\n  decision_function_shape=None, degree=3, gamma='auto', kernel='rbf',\n  max_iter=-1, probability=False, random_state=14, shrinking=True,\n  tol=0.001, verbose=False)\n"
     ]
    }
   ],
   "source": [
    "print(clf.fit(X_train, y_train))\n",
    "y_hat = clf.predict(X_test)"
   ]
  },
  {
   "cell_type": "markdown",
   "metadata": {},
   "source": [
    "2.1.3 Se obtiene la tasa de aciertos, recall y precision del clasificador"
   ]
  },
  {
   "cell_type": "code",
   "execution_count": 7,
   "metadata": {},
   "outputs": [
    {
     "name": "stdout",
     "output_type": "stream",
     "text": [
      "Porcentaje de aciertos en la clasificación: 0.9777777777777777\n\n             precision    recall  f1-score   support\n\n          0       1.00      1.00      1.00        51\n          1       0.93      1.00      0.96        41\n          2       0.98      0.98      0.98        46\n          3       1.00      0.98      0.99        51\n          4       0.89      0.98      0.93        55\n          5       1.00      1.00      1.00        49\n          6       1.00      1.00      1.00        50\n          7       1.00      0.94      0.97        62\n          8       1.00      0.92      0.96        59\n          9       0.99      1.00      0.99        76\n\navg / total       0.98      0.98      0.98       540\n\n"
     ]
    }
   ],
   "source": [
    "from sklearn import metrics\n",
    "cr_SVC = metrics.classification_report(y_test, y_hat)\n",
    "prf_SVC = metrics.precision_recall_fscore_support(y_test, y_hat)\n",
    "print('Porcentaje de aciertos en la clasificación: {}\\n\\n{}'.format(clf.score(X_test, y_test), cr_SVC))"
   ]
  },
  {
   "cell_type": "markdown",
   "metadata": {},
   "source": [
    "2.2 Implementación de Random Forest"
   ]
  },
  {
   "cell_type": "code",
   "execution_count": 8,
   "metadata": {},
   "outputs": [],
   "source": [
    "from sklearn.ensemble import RandomForestClassifier\n",
    "\n",
    "clf = RandomForestClassifier(random_state=random_state, n_estimators=200)"
   ]
  },
  {
   "cell_type": "markdown",
   "metadata": {},
   "source": [
    "2.2.1 Se divide el subgrupo de Train y Test"
   ]
  },
  {
   "cell_type": "code",
   "execution_count": 9,
   "metadata": {},
   "outputs": [],
   "source": [
    "from sklearn.model_selection import train_test_split\n",
    "\n",
    "X_train, X_test, y_train, y_test = train_test_split(X_norm, y, random_state=random_state, test_size=0.3)"
   ]
  },
  {
   "cell_type": "markdown",
   "metadata": {},
   "source": [
    "2.2.1 Se entrena el modelo y se obtiene el *y_hat*"
   ]
  },
  {
   "cell_type": "code",
   "execution_count": 10,
   "metadata": {},
   "outputs": [
    {
     "name": "stdout",
     "output_type": "stream",
     "text": [
      "RandomForestClassifier(bootstrap=True, class_weight=None, criterion='gini',\n            max_depth=None, max_features='auto', max_leaf_nodes=None,\n            min_impurity_split=1e-07, min_samples_leaf=1,\n            min_samples_split=2, min_weight_fraction_leaf=0.0,\n            n_estimators=200, n_jobs=1, oob_score=False, random_state=14,\n            verbose=0, warm_start=False)\n"
     ]
    }
   ],
   "source": [
    "print(clf.fit(X_train, y_train))\n",
    "y_hat = clf.predict(X_test)"
   ]
  },
  {
   "cell_type": "markdown",
   "metadata": {},
   "source": [
    "2.2.3 Se obtiene la tasa de aciertos, recall y precision del clasificador"
   ]
  },
  {
   "cell_type": "code",
   "execution_count": 11,
   "metadata": {},
   "outputs": [
    {
     "name": "stdout",
     "output_type": "stream",
     "text": [
      "Porcentaje de aciertos en la clasificación: 0.9740740740740741\n\n             precision    recall  f1-score   support\n\n          0       0.98      0.98      0.98        51\n          1       0.89      1.00      0.94        41\n          2       1.00      1.00      1.00        46\n          3       0.96      0.98      0.97        51\n          4       0.98      0.98      0.98        55\n          5       1.00      0.98      0.99        49\n          6       1.00      0.98      0.99        50\n          7       0.97      1.00      0.98        62\n          8       0.98      0.92      0.95        59\n          9       0.97      0.95      0.96        76\n\navg / total       0.98      0.97      0.97       540\n\n"
     ]
    }
   ],
   "source": [
    "from sklearn import metrics\n",
    "cr_random = metrics.classification_report(y_test, y_hat)\n",
    "prf_random = metrics.precision_recall_fscore_support(y_test, y_hat)\n",
    "print('Porcentaje de aciertos en la clasificación: {}\\n\\n{}'.format(clf.score(X_test, y_test), cr_random))"
   ]
  },
  {
   "cell_type": "markdown",
   "metadata": {},
   "source": [
    "### 3) Explicación paso a paso de la implementación:\n",
    "\n",
    "El paso a paso se describió en el punto anterior. \n",
    "#### Aclaraciones:\n",
    "- **SVC**: se utilizó el clasificador por defecto y solo se le modificó el parámetro *random_state*.\n",
    "- **RandomForestClassifier**: se modificó el parámetro *random_state* y *n_estimators*, este último para que se obtenga un mejor resultado al momento de predecir.\n",
    "\n",
    "#### Comparación"
   ]
  },
  {
   "cell_type": "code",
   "execution_count": 12,
   "metadata": {},
   "outputs": [
    {
     "name": "stdout",
     "output_type": "stream",
     "text": [
      "Comparación de precision\n"
     ]
    },
    {
     "data": {
      "image/png": "[encoded data removed]",
      "text/plain": [
       "<matplotlib.figure.Figure at 0x7fcdf7abecc0>"
      ]
     },
     "metadata": {},
     "output_type": "display_data"
    }
   ],
   "source": [
    "import matplotlib.pyplot as plt\n",
    "\n",
    "plt.plot(digits.target_names, prf_SVC[0], 'b-',  label='SVC')\n",
    "plt.plot(digits.target_names, prf_random[0], 'r-', label='RandomForest')\n",
    "print('Comparación de precision')\n",
    "plt.show()"
   ]
  },
  {
   "cell_type": "code",
   "execution_count": 13,
   "metadata": {},
   "outputs": [
    {
     "name": "stdout",
     "output_type": "stream",
     "text": [
      "Comparación de recall\n"
     ]
    },
    {
     "data": {
      "image/png": "[encoded data removed]",
      "text/plain": [
       "<matplotlib.figure.Figure at 0x7fcdf7abee10>"
      ]
     },
     "metadata": {},
     "output_type": "display_data"
    }
   ],
   "source": [
    "plt.plot(digits.target_names, prf_SVC[1], 'b-', digits.target_names, prf_random[1], 'r-')\n",
    "print('Comparación de recall')\n",
    "plt.show()"
   ]
  },
  {
   "cell_type": "code",
   "execution_count": 14,
   "metadata": {},
   "outputs": [
    {
     "name": "stdout",
     "output_type": "stream",
     "text": [
      "Comparación de f1-score\n"
     ]
    },
    {
     "data": {
      "image/png": "[encoded data removed]",
      "text/plain": [
       "<matplotlib.figure.Figure at 0x7fcdf023d3c8>"
      ]
     },
     "metadata": {},
     "output_type": "display_data"
    }
   ],
   "source": [
    "plt.plot(digits.target_names, prf_SVC[2], 'b-', digits.target_names, prf_random[2], 'r-')\n",
    "print('Comparación de f1-score')\n",
    "plt.show()"
   ]
  },
  {
   "cell_type": "markdown",
   "metadata": {},
   "source": [
    "Viendo los gráficos y teniendo en cuenta los valores que arrojaron las tasas de aciertos en ambos casos. Se puede determinar que los modelos no son similares, pero tienen casi la misma tasa. \n",
    "Tampoco se puede determinar si uno fue mejor que otro porque la variación de esta es pequeña. \n",
    "Para **Random Forest** se alcanzaron grandes aciertos por la cantidad de estimadores que se le asignaron (200). \n",
    "Para **SVC** puede que la distribucion de los datos influenció de manera positiva a este método. "
   ]
  },
  {
   "cell_type": "markdown",
   "metadata": {},
   "source": [
    "FIN"
   ]
  },
  {
   "cell_type": "code",
   "execution_count": null,
   "metadata": {},
   "outputs": [],
   "source": [
    ""
   ]
  }
 ],
 "metadata": {
  "kernelspec": {
   "display_name": "Python 2",
   "language": "python",
   "name": "python2"
  },
  "language_info": {
   "codemirror_mode": {
    "name": "ipython",
    "version": 2.0
   },
   "file_extension": ".py",
   "mimetype": "text/x-python",
   "name": "python",
   "nbconvert_exporter": "python",
   "pygments_lexer": "ipython2",
   "version": "2.7.6"
  }
 },
 "nbformat": 4,
 "nbformat_minor": 0
}